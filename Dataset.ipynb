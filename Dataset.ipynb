{
  "nbformat": 4,
  "nbformat_minor": 0,
  "metadata": {
    "colab": {
      "provenance": [],
      "authorship_tag": "ABX9TyODlqyC55JslDReyyc/3iMj",
      "include_colab_link": true
    },
    "kernelspec": {
      "name": "python3",
      "display_name": "Python 3"
    },
    "language_info": {
      "name": "python"
    }
  },
  "cells": [
    {
      "cell_type": "markdown",
      "metadata": {
        "id": "view-in-github",
        "colab_type": "text"
      },
      "source": [
        "<a href=\"https://colab.research.google.com/github/Tarsha777/Drone_detection/blob/main/Dataset.ipynb\" target=\"_parent\"><img src=\"https://colab.research.google.com/assets/colab-badge.svg\" alt=\"Open In Colab\"/></a>"
      ]
    },
    {
      "cell_type": "code",
      "execution_count": 2,
      "metadata": {
        "colab": {
          "base_uri": "https://localhost:8080/"
        },
        "id": "7S-5fuoGJo_K",
        "outputId": "94cf6bc9-eeac-496b-ade3-8ee1969ae77f"
      },
      "outputs": [
        {
          "output_type": "stream",
          "name": "stdout",
          "text": [
            "✅ dataset downloaded\n"
          ]
        }
      ],
      "source": [
        "import os\n",
        "\n",
        "# Install gdown if not available\n",
        "os.system(\"pip install gdown\")\n",
        "\n",
        "# Replace FILE_ID with the Google Drive file ID\n",
        "FILE_ID = \"https://drive.google.com/drive/folders/1l-YmI0-Mls_Akk77L-e2B0HyKNmrlwk5?usp=sharing\"\n",
        "OUTPUT = \"dataset\"\n",
        "\n",
        "# Download\n",
        "os.system(f\"gdown --id {FILE_ID} -O {OUTPUT}\")\n",
        "print(\"✅ dataset downloaded\")\n"
      ]
    }
  ]
}
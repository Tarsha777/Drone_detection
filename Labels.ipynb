{
  "nbformat": 4,
  "nbformat_minor": 0,
  "metadata": {
    "colab": {
      "provenance": [],
      "authorship_tag": "ABX9TyOfo7quEANlxHLGxf+rCXQ8",
      "include_colab_link": true
    },
    "kernelspec": {
      "name": "python3",
      "display_name": "Python 3"
    },
    "language_info": {
      "name": "python"
    }
  },
  "cells": [
    {
      "cell_type": "markdown",
      "metadata": {
        "id": "view-in-github",
        "colab_type": "text"
      },
      "source": [
        "<a href=\"https://colab.research.google.com/github/Tarsha777/Drone_detection/blob/main/Labels.ipynb\" target=\"_parent\"><img src=\"https://colab.research.google.com/assets/colab-badge.svg\" alt=\"Open In Colab\"/></a>"
      ]
    },
    {
      "cell_type": "code",
      "execution_count": 2,
      "metadata": {
        "colab": {
          "base_uri": "https://localhost:8080/"
        },
        "id": "0CMUUhjSIjM8",
        "outputId": "778a0d2e-fd51-4d16-da18-e879ae7da59c"
      },
      "outputs": [
        {
          "output_type": "stream",
          "name": "stdout",
          "text": [
            "✅ labels.json downloaded\n"
          ]
        }
      ],
      "source": [
        "import os\n",
        "\n",
        "# Install gdown if not available\n",
        "os.system(\"pip install gdown\")\n",
        "\n",
        "\n",
        "FILE_ID = \"https://drive.google.com/file/d/1gtqmSKdrF_Kejo2Bk0LUY9LsAZZmipmt/view?usp=sharing\"\n",
        "OUTPUT = \"labels.json\"\n",
        "\n",
        "# Download\n",
        "os.system(f\"gdown --id {FILE_ID} -O {OUTPUT}\")\n",
        "print(\"✅ labels.json downloaded\")\n"
      ]
    }
  ]
}